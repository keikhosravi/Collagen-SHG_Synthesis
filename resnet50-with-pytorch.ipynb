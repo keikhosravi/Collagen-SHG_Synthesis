{
 "cells": [
  {
   "cell_type": "code",
   "execution_count": 2,
   "metadata": {
    "_uuid": "65655386f03bf88bb08a5086a45aac0e2a528b3d"
   },
   "outputs": [],
   "source": [
    "%matplotlib inline\n",
    "\n",
    "import os\n",
    "import math\n",
    "import copy\n",
    "\n",
    "import pandas as pd\n",
    "import numpy as np\n",
    "\n",
    "import matplotlib.pyplot as plt\n",
    "\n",
    "import torch\n",
    "import torchvision\n",
    "\n",
    "# import skimage\n",
    "from skimage.io import imread\n",
    "\n",
    "from sklearn.model_selection import train_test_split\n",
    "from sklearn.metrics import accuracy_score"
   ]
  },
  {
   "cell_type": "markdown",
   "metadata": {
    "_uuid": "ea585d58a85d22857cc8dc5911a23fd3be78ffb3"
   },
   "source": [
    "**Configurations**"
   ]
  },
  {
   "cell_type": "code",
   "execution_count": 3,
   "metadata": {
    "_uuid": "875595f5b6e66679d8d765216ab75ed952176c67"
   },
   "outputs": [],
   "source": [
    "EPOCHS = 5\n",
    "USE_GPU = True"
   ]
  },
  {
   "cell_type": "markdown",
   "metadata": {
    "_uuid": "39c14c5d34d1ac13c7a518dec23d2a61bdf609f7"
   },
   "source": [
    "**Load labels**"
   ]
  },
  {
   "cell_type": "code",
   "execution_count": 6,
   "metadata": {
    "_uuid": "09fea8658ef1ff21c10b746baf42bc63f01c5b13"
   },
   "outputs": [],
   "source": [
    "labels_df = pd.read_csv(\"../input/train_labels.csv\")"
   ]
  },
  {
   "cell_type": "code",
   "execution_count": 7,
   "metadata": {
    "_uuid": "109ec345268d504edfa3238195a324995b066663"
   },
   "outputs": [
    {
     "data": {
      "text/html": [
       "<div>\n",
       "<style scoped>\n",
       "    .dataframe tbody tr th:only-of-type {\n",
       "        vertical-align: middle;\n",
       "    }\n",
       "\n",
       "    .dataframe tbody tr th {\n",
       "        vertical-align: top;\n",
       "    }\n",
       "\n",
       "    .dataframe thead th {\n",
       "        text-align: right;\n",
       "    }\n",
       "</style>\n",
       "<table border=\"1\" class=\"dataframe\">\n",
       "  <thead>\n",
       "    <tr style=\"text-align: right;\">\n",
       "      <th></th>\n",
       "      <th>id</th>\n",
       "      <th>label</th>\n",
       "    </tr>\n",
       "  </thead>\n",
       "  <tbody>\n",
       "    <tr>\n",
       "      <th>0</th>\n",
       "      <td>f38a6374c348f90b587e046aac6079959adf3835</td>\n",
       "      <td>0</td>\n",
       "    </tr>\n",
       "    <tr>\n",
       "      <th>1</th>\n",
       "      <td>c18f2d887b7ae4f6742ee445113fa1aef383ed77</td>\n",
       "      <td>1</td>\n",
       "    </tr>\n",
       "    <tr>\n",
       "      <th>2</th>\n",
       "      <td>755db6279dae599ebb4d39a9123cce439965282d</td>\n",
       "      <td>0</td>\n",
       "    </tr>\n",
       "    <tr>\n",
       "      <th>3</th>\n",
       "      <td>bc3f0c64fb968ff4a8bd33af6971ecae77c75e08</td>\n",
       "      <td>0</td>\n",
       "    </tr>\n",
       "    <tr>\n",
       "      <th>4</th>\n",
       "      <td>068aba587a4950175d04c680d38943fd488d6a9d</td>\n",
       "      <td>0</td>\n",
       "    </tr>\n",
       "  </tbody>\n",
       "</table>\n",
       "</div>"
      ],
      "text/plain": [
       "                                         id  label\n",
       "0  f38a6374c348f90b587e046aac6079959adf3835      0\n",
       "1  c18f2d887b7ae4f6742ee445113fa1aef383ed77      1\n",
       "2  755db6279dae599ebb4d39a9123cce439965282d      0\n",
       "3  bc3f0c64fb968ff4a8bd33af6971ecae77c75e08      0\n",
       "4  068aba587a4950175d04c680d38943fd488d6a9d      0"
      ]
     },
     "execution_count": 7,
     "metadata": {},
     "output_type": "execute_result"
    }
   ],
   "source": [
    "labels_df.head()"
   ]
  },
  {
   "cell_type": "markdown",
   "metadata": {
    "_uuid": "fd9a1343d32e56c29fee7a887fb9bfd8cf8dcbc5"
   },
   "source": [
    "**Make sure we are not having the imbalanced classification problem**"
   ]
  },
  {
   "cell_type": "code",
   "execution_count": 8,
   "metadata": {
    "_uuid": "53d98e0f0b23ed253810c4e253720273ff9cf90f"
   },
   "outputs": [
    {
     "data": {
      "text/plain": [
       "<matplotlib.axes._subplots.AxesSubplot at 0x7fea0dd86048>"
      ]
     },
     "execution_count": 8,
     "metadata": {},
     "output_type": "execute_result"
    },
    {
     "data": {
      "image/png": "[encoded data removed]",
      "text/plain": [
       "<Figure size 432x288 with 1 Axes>"
      ]
     },
     "metadata": {},
     "output_type": "display_data"
    }
   ],
   "source": [
    "labels_df[\"label\"].value_counts().plot(kind=\"pie\")"
   ]
  },
  {
   "cell_type": "markdown",
   "metadata": {
    "_uuid": "a4ce9243ba78c8383e60ac1e510b2ee50f27a090"
   },
   "source": [
    "**Train test split for model selection**"
   ]
  },
  {
   "cell_type": "code",
   "execution_count": 9,
   "metadata": {
    "_uuid": "2b6a7879cbf70f542c75941d164ba4fef9958b0e"
   },
   "outputs": [],
   "source": [
    "train_indices, test_indices = train_test_split(labels_df.index, test_size=0.25)"
   ]
  },
  {
   "cell_type": "code",
   "execution_count": 10,
   "metadata": {
    "_uuid": "4136f257e4a6f8ddd9531924ff3f5bb92049cd47"
   },
   "outputs": [
    {
     "data": {
      "text/plain": [
       "((165018,), (55007,))"
      ]
     },
     "execution_count": 10,
     "metadata": {},
     "output_type": "execute_result"
    }
   ],
   "source": [
    "train_indices.shape, test_indices.shape"
   ]
  },
  {
   "cell_type": "code",
   "execution_count": null,
   "metadata": {
    "_uuid": "d079deb1192c827bd301e3a33565f9df08f6f0b4"
   },
   "outputs": [],
   "source": []
  },
  {
   "cell_type": "code",
   "execution_count": 11,
   "metadata": {
    "_uuid": "d400510a381dd032a986bb552fa3e3d3bbab4672"
   },
   "outputs": [],
   "source": [
    "class HistopathologicCancerDataset(torch.utils.data.Dataset):\n",
    "    \"\"\"\n",
    "    This is our custom dataset class which will load the images, perform transforms on them,\n",
    "    and load their corresponding labels.\n",
    "    \"\"\"\n",
    "    \n",
    "    def __init__(self, img_dir, labels_csv_file=None, transform=None):\n",
    "        self.img_dir = img_dir\n",
    "        \n",
    "        if labels_csv_file:\n",
    "            self.labels_df = pd.read_csv(labels_csv_file)\n",
    "        else:\n",
    "            self.images = [os.path.join(img_dir, f) for f in os.listdir(img_dir) if f.endswith(\".tif\")]\n",
    "            \n",
    "        self.transform = transform\n",
    "        \n",
    "    def __getitem__(self, idx):\n",
    "        try:\n",
    "            img_path = os.path.join(\n",
    "                self.img_dir,\n",
    "                \"{}.tif\".format(self.labels_df.iloc[idx, 0])\n",
    "            )\n",
    "        except AttributeError:\n",
    "            img_path = self.images[idx]\n",
    "\n",
    "#         print(\"img_path:\", img_path)\n",
    "        img = imread(img_path)\n",
    "        \n",
    "        if self.transform:\n",
    "            img = self.transform(img)\n",
    "        \n",
    "        sample = {\n",
    "            \"image\": img,\n",
    "        }\n",
    "        try:\n",
    "            sample[\"label\"] = self.labels_df.loc[idx, \"label\"]\n",
    "            sample[\"id\"] = self.labels_df.loc[idx, \"id\"]\n",
    "        except AttributeError:\n",
    "            sample[\"id\"] = os.path.basename(self.images[idx]).replace(\".tif\", \"\")\n",
    "        \n",
    "        return sample\n",
    "    \n",
    "    def __len__(self):\n",
    "        try:\n",
    "            return self.labels_df.shape[0]\n",
    "        except AttributeError:\n",
    "            return len(self.images)"
   ]
  },
  {
   "cell_type": "markdown",
   "metadata": {
    "_uuid": "241df72febc76df14d21be298435bac5df1a546f"
   },
   "source": [
    "**Image tranformation pipeline**"
   ]
  },
  {
   "cell_type": "code",
   "execution_count": 12,
   "metadata": {
    "_uuid": "c51370550ec0a7a92fd8fc0ebedd0a02412cfa22"
   },
   "outputs": [],
   "source": [
    "transform_pipe = torchvision.transforms.Compose([\n",
    "    torchvision.transforms.ToPILImage(), # Convert np array to PILImage\n",
    "    \n",
    "    # Resize image to 224 x 224 as required by most vision models\n",
    "    torchvision.transforms.Resize(\n",
    "        size=(224, 224)\n",
    "    ),\n",
    "    \n",
    "    # Convert PIL image to tensor with image values in [0, 1]\n",
    "    torchvision.transforms.ToTensor(),\n",
    "    \n",
    "    torchvision.transforms.Normalize(\n",
    "        mean=[0.485, 0.456, 0.406],\n",
    "        std=[0.229, 0.224, 0.225]\n",
    "    )\n",
    "])"
   ]
  },
  {
   "cell_type": "code",
   "execution_count": 13,
   "metadata": {
    "_uuid": "69c25803dccad729a4bfb95bdf032514e7b92064"
   },
   "outputs": [],
   "source": [
    "train_data = HistopathologicCancerDataset(\n",
    "    img_dir=\"../input/train/\",\n",
    "    labels_csv_file=\"../input/train_labels.csv\",\n",
    "    transform=transform_pipe\n",
    ")"
   ]
  },
  {
   "cell_type": "markdown",
   "metadata": {
    "_uuid": "219bf456dfd642daea9cc82a77ff159071debe49"
   },
   "source": [
    "**The training dataset loader will randomly sample from the train samples**"
   ]
  },
  {
   "cell_type": "code",
   "execution_count": 14,
   "metadata": {
    "_uuid": "0b26dc3d91fa365d8f23a8667a48647c2d27fbfc"
   },
   "outputs": [],
   "source": [
    "train_loader = torch.utils.data.DataLoader(\n",
    "    train_data,\n",
    "    batch_size=64,\n",
    "    sampler=torch.utils.data.SubsetRandomSampler(\n",
    "        train_indices\n",
    "    )\n",
    "#     shuffle=True,\n",
    "#     num_workers=8\n",
    ")"
   ]
  },
  {
   "cell_type": "markdown",
   "metadata": {
    "_uuid": "48375a7572ee065377f8fa3a18ade4553c17edcb"
   },
   "source": [
    "**The training dataset loader will randomly sample from the test samples**"
   ]
  },
  {
   "cell_type": "code",
   "execution_count": 15,
   "metadata": {
    "_uuid": "24d1263c31ff663b5c2ff168d3b81ec0fa86f72b"
   },
   "outputs": [],
   "source": [
    "test_loader = torch.utils.data.DataLoader(\n",
    "    train_data,\n",
    "    batch_size=64,\n",
    "    sampler=torch.utils.data.SubsetRandomSampler(\n",
    "        test_indices\n",
    "    )\n",
    "#     shuffle=True,\n",
    "#     num_workers=8\n",
    ")"
   ]
  },
  {
   "cell_type": "code",
   "execution_count": 16,
   "metadata": {
    "_uuid": "94cf65bc49ab5b1881d9d571cf5f29ed287d2432"
   },
   "outputs": [],
   "source": [
    "dataloaders = {\n",
    "    \"train\": train_loader,\n",
    "    \"test\": test_loader\n",
    "}"
   ]
  },
  {
   "cell_type": "code",
   "execution_count": null,
   "metadata": {
    "_uuid": "a5094af5c399ef22267b9145a540c7f6407bcbfd"
   },
   "outputs": [],
   "source": []
  },
  {
   "cell_type": "code",
   "execution_count": 17,
   "metadata": {
    "_uuid": "4664185fcbb0be997a64f04e49bdabb926f5b5a5"
   },
   "outputs": [],
   "source": [
    "class Flatten(torch.nn.Module):\n",
    "    \"\"\"\n",
    "    Custom flatten module like what is available in Keras.\n",
    "    \"\"\"\n",
    "    \n",
    "    def forward(self, input):\n",
    "        return input.view(input.size(0), -1)"
   ]
  },
  {
   "cell_type": "markdown",
   "metadata": {
    "_uuid": "76628ba5dd13103c32f2c1ad3361185676b121d2"
   },
   "source": [
    "**Model definition**"
   ]
  },
  {
   "cell_type": "code",
   "execution_count": 18,
   "metadata": {
    "_uuid": "48205e7aa4bc2b12c0d07d3c767f37eee146af22"
   },
   "outputs": [],
   "source": [
    "# model = torch.nn.Sequential(\n",
    "#     torch.nn.Conv2d(\n",
    "#         in_channels=3,\n",
    "#         out_channels=8,\n",
    "#         kernel_size=3,\n",
    "#     ),\n",
    "#     torch.nn.MaxPool2d(\n",
    "#         kernel_size=2\n",
    "#     ),\n",
    "#     torch.nn.ReLU(),\n",
    "    \n",
    "#     torch.nn.Conv2d(\n",
    "#         in_channels=8,\n",
    "#         out_channels=16,\n",
    "#         kernel_size=3\n",
    "#     ),\n",
    "#     torch.nn.MaxPool2d(\n",
    "#         kernel_size=2\n",
    "#     ),\n",
    "#     torch.nn.ReLU(),\n",
    "    \n",
    "#     torch.nn.Conv2d(\n",
    "#         in_channels=16,\n",
    "#         out_channels=32,\n",
    "#         kernel_size=3\n",
    "#     ),\n",
    "#     torch.nn.MaxPool2d(\n",
    "#         kernel_size=2\n",
    "#     ),\n",
    "#     torch.nn.ReLU(),\n",
    "    \n",
    "#     torch.nn.Conv2d(\n",
    "#         in_channels=32,\n",
    "#         out_channels=64,\n",
    "#         kernel_size=3\n",
    "#     ),\n",
    "#     torch.nn.MaxPool2d(\n",
    "#         kernel_size=2\n",
    "#     ),\n",
    "#     torch.nn.ReLU(),\n",
    "    \n",
    "#     Flatten(),\n",
    "    \n",
    "#     torch.nn.Linear(\n",
    "#         in_features=1024,\n",
    "#         out_features=1\n",
    "#     ),\n",
    "#     torch.nn.Sigmoid()\n",
    "# )"
   ]
  },
  {
   "cell_type": "code",
   "execution_count": 19,
   "metadata": {
    "_uuid": "5be2f990b6f87bd67d288a42940020c92380e3cf"
   },
   "outputs": [],
   "source": [
    "# model = torchvision.models.resnet50(pretrained=True)\n",
    "model = torchvision.models.resnet50()"
   ]
  },
  {
   "cell_type": "code",
   "execution_count": 20,
   "metadata": {
    "_uuid": "79a19634b183fa2355038cdec379078bbb894d2e"
   },
   "outputs": [
    {
     "data": {
      "text/plain": [
       "ResNet(\n",
       "  (conv1): Conv2d(3, 64, kernel_size=(7, 7), stride=(2, 2), padding=(3, 3), bias=False)\n",
       "  (bn1): BatchNorm2d(64, eps=1e-05, momentum=0.1, affine=True, track_running_stats=True)\n",
       "  (relu): ReLU(inplace)\n",
       "  (maxpool): MaxPool2d(kernel_size=3, stride=2, padding=1, dilation=1, ceil_mode=False)\n",
       "  (layer1): Sequential(\n",
       "    (0): Bottleneck(\n",
       "      (conv1): Conv2d(64, 64, kernel_size=(1, 1), stride=(1, 1), bias=False)\n",
       "      (bn1): BatchNorm2d(64, eps=1e-05, momentum=0.1, affine=True, track_running_stats=True)\n",
       "      (conv2): Conv2d(64, 64, kernel_size=(3, 3), stride=(1, 1), padding=(1, 1), bias=False)\n",
       "      (bn2): BatchNorm2d(64, eps=1e-05, momentum=0.1, affine=True, track_running_stats=True)\n",
       "      (conv3): Conv2d(64, 256, kernel_size=(1, 1), stride=(1, 1), bias=False)\n",
       "      (bn3): BatchNorm2d(256, eps=1e-05, momentum=0.1, affine=True, track_running_stats=True)\n",
       "      (relu): ReLU(inplace)\n",
       "      (downsample): Sequential(\n",
       "        (0): Conv2d(64, 256, kernel_size=(1, 1), stride=(1, 1), bias=False)\n",
       "        (1): BatchNorm2d(256, eps=1e-05, momentum=0.1, affine=True, track_running_stats=True)\n",
       "      )\n",
       "    )\n",
       "    (1): Bottleneck(\n",
       "      (conv1): Conv2d(256, 64, kernel_size=(1, 1), stride=(1, 1), bias=False)\n",
       "      (bn1): BatchNorm2d(64, eps=1e-05, momentum=0.1, affine=True, track_running_stats=True)\n",
       "      (conv2): Conv2d(64, 64, kernel_size=(3, 3), stride=(1, 1), padding=(1, 1), bias=False)\n",
       "      (bn2): BatchNorm2d(64, eps=1e-05, momentum=0.1, affine=True, track_running_stats=True)\n",
       "      (conv3): Conv2d(64, 256, kernel_size=(1, 1), stride=(1, 1), bias=False)\n",
       "      (bn3): BatchNorm2d(256, eps=1e-05, momentum=0.1, affine=True, track_running_stats=True)\n",
       "      (relu): ReLU(inplace)\n",
       "    )\n",
       "    (2): Bottleneck(\n",
       "      (conv1): Conv2d(256, 64, kernel_size=(1, 1), stride=(1, 1), bias=False)\n",
       "      (bn1): BatchNorm2d(64, eps=1e-05, momentum=0.1, affine=True, track_running_stats=True)\n",
       "      (conv2): Conv2d(64, 64, kernel_size=(3, 3), stride=(1, 1), padding=(1, 1), bias=False)\n",
       "      (bn2): BatchNorm2d(64, eps=1e-05, momentum=0.1, affine=True, track_running_stats=True)\n",
       "      (conv3): Conv2d(64, 256, kernel_size=(1, 1), stride=(1, 1), bias=False)\n",
       "      (bn3): BatchNorm2d(256, eps=1e-05, momentum=0.1, affine=True, track_running_stats=True)\n",
       "      (relu): ReLU(inplace)\n",
       "    )\n",
       "  )\n",
       "  (layer2): Sequential(\n",
       "    (0): Bottleneck(\n",
       "      (conv1): Conv2d(256, 128, kernel_size=(1, 1), stride=(1, 1), bias=False)\n",
       "      (bn1): BatchNorm2d(128, eps=1e-05, momentum=0.1, affine=True, track_running_stats=True)\n",
       "      (conv2): Conv2d(128, 128, kernel_size=(3, 3), stride=(2, 2), padding=(1, 1), bias=False)\n",
       "      (bn2): BatchNorm2d(128, eps=1e-05, momentum=0.1, affine=True, track_running_stats=True)\n",
       "      (conv3): Conv2d(128, 512, kernel_size=(1, 1), stride=(1, 1), bias=False)\n",
       "      (bn3): BatchNorm2d(512, eps=1e-05, momentum=0.1, affine=True, track_running_stats=True)\n",
       "      (relu): ReLU(inplace)\n",
       "      (downsample): Sequential(\n",
       "        (0): Conv2d(256, 512, kernel_size=(1, 1), stride=(2, 2), bias=False)\n",
       "        (1): BatchNorm2d(512, eps=1e-05, momentum=0.1, affine=True, track_running_stats=True)\n",
       "      )\n",
       "    )\n",
       "    (1): Bottleneck(\n",
       "      (conv1): Conv2d(512, 128, kernel_size=(1, 1), stride=(1, 1), bias=False)\n",
       "      (bn1): BatchNorm2d(128, eps=1e-05, momentum=0.1, affine=True, track_running_stats=True)\n",
       "      (conv2): Conv2d(128, 128, kernel_size=(3, 3), stride=(1, 1), padding=(1, 1), bias=False)\n",
       "      (bn2): BatchNorm2d(128, eps=1e-05, momentum=0.1, affine=True, track_running_stats=True)\n",
       "      (conv3): Conv2d(128, 512, kernel_size=(1, 1), stride=(1, 1), bias=False)\n",
       "      (bn3): BatchNorm2d(512, eps=1e-05, momentum=0.1, affine=True, track_running_stats=True)\n",
       "      (relu): ReLU(inplace)\n",
       "    )\n",
       "    (2): Bottleneck(\n",
       "      (conv1): Conv2d(512, 128, kernel_size=(1, 1), stride=(1, 1), bias=False)\n",
       "      (bn1): BatchNorm2d(128, eps=1e-05, momentum=0.1, affine=True, track_running_stats=True)\n",
       "      (conv2): Conv2d(128, 128, kernel_size=(3, 3), stride=(1, 1), padding=(1, 1), bias=False)\n",
       "      (bn2): BatchNorm2d(128, eps=1e-05, momentum=0.1, affine=True, track_running_stats=True)\n",
       "      (conv3): Conv2d(128, 512, kernel_size=(1, 1), stride=(1, 1), bias=False)\n",
       "      (bn3): BatchNorm2d(512, eps=1e-05, momentum=0.1, affine=True, track_running_stats=True)\n",
       "      (relu): ReLU(inplace)\n",
       "    )\n",
       "    (3): Bottleneck(\n",
       "      (conv1): Conv2d(512, 128, kernel_size=(1, 1), stride=(1, 1), bias=False)\n",
       "      (bn1): BatchNorm2d(128, eps=1e-05, momentum=0.1, affine=True, track_running_stats=True)\n",
       "      (conv2): Conv2d(128, 128, kernel_size=(3, 3), stride=(1, 1), padding=(1, 1), bias=False)\n",
       "      (bn2): BatchNorm2d(128, eps=1e-05, momentum=0.1, affine=True, track_running_stats=True)\n",
       "      (conv3): Conv2d(128, 512, kernel_size=(1, 1), stride=(1, 1), bias=False)\n",
       "      (bn3): BatchNorm2d(512, eps=1e-05, momentum=0.1, affine=True, track_running_stats=True)\n",
       "      (relu): ReLU(inplace)\n",
       "    )\n",
       "  )\n",
       "  (layer3): Sequential(\n",
       "    (0): Bottleneck(\n",
       "      (conv1): Conv2d(512, 256, kernel_size=(1, 1), stride=(1, 1), bias=False)\n",
       "      (bn1): BatchNorm2d(256, eps=1e-05, momentum=0.1, affine=True, track_running_stats=True)\n",
       "      (conv2): Conv2d(256, 256, kernel_size=(3, 3), stride=(2, 2), padding=(1, 1), bias=False)\n",
       "      (bn2): BatchNorm2d(256, eps=1e-05, momentum=0.1, affine=True, track_running_stats=True)\n",
       "      (conv3): Conv2d(256, 1024, kernel_size=(1, 1), stride=(1, 1), bias=False)\n",
       "      (bn3): BatchNorm2d(1024, eps=1e-05, momentum=0.1, affine=True, track_running_stats=True)\n",
       "      (relu): ReLU(inplace)\n",
       "      (downsample): Sequential(\n",
       "        (0): Conv2d(512, 1024, kernel_size=(1, 1), stride=(2, 2), bias=False)\n",
       "        (1): BatchNorm2d(1024, eps=1e-05, momentum=0.1, affine=True, track_running_stats=True)\n",
       "      )\n",
       "    )\n",
       "    (1): Bottleneck(\n",
       "      (conv1): Conv2d(1024, 256, kernel_size=(1, 1), stride=(1, 1), bias=False)\n",
       "      (bn1): BatchNorm2d(256, eps=1e-05, momentum=0.1, affine=True, track_running_stats=True)\n",
       "      (conv2): Conv2d(256, 256, kernel_size=(3, 3), stride=(1, 1), padding=(1, 1), bias=False)\n",
       "      (bn2): BatchNorm2d(256, eps=1e-05, momentum=0.1, affine=True, track_running_stats=True)\n",
       "      (conv3): Conv2d(256, 1024, kernel_size=(1, 1), stride=(1, 1), bias=False)\n",
       "      (bn3): BatchNorm2d(1024, eps=1e-05, momentum=0.1, affine=True, track_running_stats=True)\n",
       "      (relu): ReLU(inplace)\n",
       "    )\n",
       "    (2): Bottleneck(\n",
       "      (conv1): Conv2d(1024, 256, kernel_size=(1, 1), stride=(1, 1), bias=False)\n",
       "      (bn1): BatchNorm2d(256, eps=1e-05, momentum=0.1, affine=True, track_running_stats=True)\n",
       "      (conv2): Conv2d(256, 256, kernel_size=(3, 3), stride=(1, 1), padding=(1, 1), bias=False)\n",
       "      (bn2): BatchNorm2d(256, eps=1e-05, momentum=0.1, affine=True, track_running_stats=True)\n",
       "      (conv3): Conv2d(256, 1024, kernel_size=(1, 1), stride=(1, 1), bias=False)\n",
       "      (bn3): BatchNorm2d(1024, eps=1e-05, momentum=0.1, affine=True, track_running_stats=True)\n",
       "      (relu): ReLU(inplace)\n",
       "    )\n",
       "    (3): Bottleneck(\n",
       "      (conv1): Conv2d(1024, 256, kernel_size=(1, 1), stride=(1, 1), bias=False)\n",
       "      (bn1): BatchNorm2d(256, eps=1e-05, momentum=0.1, affine=True, track_running_stats=True)\n",
       "      (conv2): Conv2d(256, 256, kernel_size=(3, 3), stride=(1, 1), padding=(1, 1), bias=False)\n",
       "      (bn2): BatchNorm2d(256, eps=1e-05, momentum=0.1, affine=True, track_running_stats=True)\n",
       "      (conv3): Conv2d(256, 1024, kernel_size=(1, 1), stride=(1, 1), bias=False)\n",
       "      (bn3): BatchNorm2d(1024, eps=1e-05, momentum=0.1, affine=True, track_running_stats=True)\n",
       "      (relu): ReLU(inplace)\n",
       "    )\n",
       "    (4): Bottleneck(\n",
       "      (conv1): Conv2d(1024, 256, kernel_size=(1, 1), stride=(1, 1), bias=False)\n",
       "      (bn1): BatchNorm2d(256, eps=1e-05, momentum=0.1, affine=True, track_running_stats=True)\n",
       "      (conv2): Conv2d(256, 256, kernel_size=(3, 3), stride=(1, 1), padding=(1, 1), bias=False)\n",
       "      (bn2): BatchNorm2d(256, eps=1e-05, momentum=0.1, affine=True, track_running_stats=True)\n",
       "      (conv3): Conv2d(256, 1024, kernel_size=(1, 1), stride=(1, 1), bias=False)\n",
       "      (bn3): BatchNorm2d(1024, eps=1e-05, momentum=0.1, affine=True, track_running_stats=True)\n",
       "      (relu): ReLU(inplace)\n",
       "    )\n",
       "    (5): Bottleneck(\n",
       "      (conv1): Conv2d(1024, 256, kernel_size=(1, 1), stride=(1, 1), bias=False)\n",
       "      (bn1): BatchNorm2d(256, eps=1e-05, momentum=0.1, affine=True, track_running_stats=True)\n",
       "      (conv2): Conv2d(256, 256, kernel_size=(3, 3), stride=(1, 1), padding=(1, 1), bias=False)\n",
       "      (bn2): BatchNorm2d(256, eps=1e-05, momentum=0.1, affine=True, track_running_stats=True)\n",
       "      (conv3): Conv2d(256, 1024, kernel_size=(1, 1), stride=(1, 1), bias=False)\n",
       "      (bn3): BatchNorm2d(1024, eps=1e-05, momentum=0.1, affine=True, track_running_stats=True)\n",
       "      (relu): ReLU(inplace)\n",
       "    )\n",
       "  )\n",
       "  (layer4): Sequential(\n",
       "    (0): Bottleneck(\n",
       "      (conv1): Conv2d(1024, 512, kernel_size=(1, 1), stride=(1, 1), bias=False)\n",
       "      (bn1): BatchNorm2d(512, eps=1e-05, momentum=0.1, affine=True, track_running_stats=True)\n",
       "      (conv2): Conv2d(512, 512, kernel_size=(3, 3), stride=(2, 2), padding=(1, 1), bias=False)\n",
       "      (bn2): BatchNorm2d(512, eps=1e-05, momentum=0.1, affine=True, track_running_stats=True)\n",
       "      (conv3): Conv2d(512, 2048, kernel_size=(1, 1), stride=(1, 1), bias=False)\n",
       "      (bn3): BatchNorm2d(2048, eps=1e-05, momentum=0.1, affine=True, track_running_stats=True)\n",
       "      (relu): ReLU(inplace)\n",
       "      (downsample): Sequential(\n",
       "        (0): Conv2d(1024, 2048, kernel_size=(1, 1), stride=(2, 2), bias=False)\n",
       "        (1): BatchNorm2d(2048, eps=1e-05, momentum=0.1, affine=True, track_running_stats=True)\n",
       "      )\n",
       "    )\n",
       "    (1): Bottleneck(\n",
       "      (conv1): Conv2d(2048, 512, kernel_size=(1, 1), stride=(1, 1), bias=False)\n",
       "      (bn1): BatchNorm2d(512, eps=1e-05, momentum=0.1, affine=True, track_running_stats=True)\n",
       "      (conv2): Conv2d(512, 512, kernel_size=(3, 3), stride=(1, 1), padding=(1, 1), bias=False)\n",
       "      (bn2): BatchNorm2d(512, eps=1e-05, momentum=0.1, affine=True, track_running_stats=True)\n",
       "      (conv3): Conv2d(512, 2048, kernel_size=(1, 1), stride=(1, 1), bias=False)\n",
       "      (bn3): BatchNorm2d(2048, eps=1e-05, momentum=0.1, affine=True, track_running_stats=True)\n",
       "      (relu): ReLU(inplace)\n",
       "    )\n",
       "    (2): Bottleneck(\n",
       "      (conv1): Conv2d(2048, 512, kernel_size=(1, 1), stride=(1, 1), bias=False)\n",
       "      (bn1): BatchNorm2d(512, eps=1e-05, momentum=0.1, affine=True, track_running_stats=True)\n",
       "      (conv2): Conv2d(512, 512, kernel_size=(3, 3), stride=(1, 1), padding=(1, 1), bias=False)\n",
       "      (bn2): BatchNorm2d(512, eps=1e-05, momentum=0.1, affine=True, track_running_stats=True)\n",
       "      (conv3): Conv2d(512, 2048, kernel_size=(1, 1), stride=(1, 1), bias=False)\n",
       "      (bn3): BatchNorm2d(2048, eps=1e-05, momentum=0.1, affine=True, track_running_stats=True)\n",
       "      (relu): ReLU(inplace)\n",
       "    )\n",
       "  )\n",
       "  (avgpool): AdaptiveAvgPool2d(output_size=(1, 1))\n",
       "  (fc): Linear(in_features=2048, out_features=1000, bias=True)\n",
       ")"
      ]
     },
     "execution_count": 20,
     "metadata": {},
     "output_type": "execute_result"
    }
   ],
   "source": [
    "model"
   ]
  },
  {
   "cell_type": "markdown",
   "metadata": {
    "_uuid": "a6d19b75eb04fe2d3f837fa8d8bac0c487cf1d52"
   },
   "source": [
    "**Replace the final fully connected layer to suite the problem**"
   ]
  },
  {
   "cell_type": "code",
   "execution_count": 21,
   "metadata": {
    "_uuid": "8f91bc25091c8c78c9fba5f282ff844d23dfa524"
   },
   "outputs": [],
   "source": [
    "model.fc = torch.nn.Sequential(\n",
    "    torch.nn.Linear(\n",
    "        in_features=2048,\n",
    "        out_features=1\n",
    "    ),\n",
    "    torch.nn.Sigmoid()\n",
    ")"
   ]
  },
  {
   "cell_type": "code",
   "execution_count": 22,
   "metadata": {
    "_uuid": "764fe1ca0e6848a1c7b27e8977b72c0b5bc13f78"
   },
   "outputs": [
    {
     "data": {
      "text/plain": [
       "ResNet(\n",
       "  (conv1): Conv2d(3, 64, kernel_size=(7, 7), stride=(2, 2), padding=(3, 3), bias=False)\n",
       "  (bn1): BatchNorm2d(64, eps=1e-05, momentum=0.1, affine=True, track_running_stats=True)\n",
       "  (relu): ReLU(inplace)\n",
       "  (maxpool): MaxPool2d(kernel_size=3, stride=2, padding=1, dilation=1, ceil_mode=False)\n",
       "  (layer1): Sequential(\n",
       "    (0): Bottleneck(\n",
       "      (conv1): Conv2d(64, 64, kernel_size=(1, 1), stride=(1, 1), bias=False)\n",
       "      (bn1): BatchNorm2d(64, eps=1e-05, momentum=0.1, affine=True, track_running_stats=True)\n",
       "      (conv2): Conv2d(64, 64, kernel_size=(3, 3), stride=(1, 1), padding=(1, 1), bias=False)\n",
       "      (bn2): BatchNorm2d(64, eps=1e-05, momentum=0.1, affine=True, track_running_stats=True)\n",
       "      (conv3): Conv2d(64, 256, kernel_size=(1, 1), stride=(1, 1), bias=False)\n",
       "      (bn3): BatchNorm2d(256, eps=1e-05, momentum=0.1, affine=True, track_running_stats=True)\n",
       "      (relu): ReLU(inplace)\n",
       "      (downsample): Sequential(\n",
       "        (0): Conv2d(64, 256, kernel_size=(1, 1), stride=(1, 1), bias=False)\n",
       "        (1): BatchNorm2d(256, eps=1e-05, momentum=0.1, affine=True, track_running_stats=True)\n",
       "      )\n",
       "    )\n",
       "    (1): Bottleneck(\n",
       "      (conv1): Conv2d(256, 64, kernel_size=(1, 1), stride=(1, 1), bias=False)\n",
       "      (bn1): BatchNorm2d(64, eps=1e-05, momentum=0.1, affine=True, track_running_stats=True)\n",
       "      (conv2): Conv2d(64, 64, kernel_size=(3, 3), stride=(1, 1), padding=(1, 1), bias=False)\n",
       "      (bn2): BatchNorm2d(64, eps=1e-05, momentum=0.1, affine=True, track_running_stats=True)\n",
       "      (conv3): Conv2d(64, 256, kernel_size=(1, 1), stride=(1, 1), bias=False)\n",
       "      (bn3): BatchNorm2d(256, eps=1e-05, momentum=0.1, affine=True, track_running_stats=True)\n",
       "      (relu): ReLU(inplace)\n",
       "    )\n",
       "    (2): Bottleneck(\n",
       "      (conv1): Conv2d(256, 64, kernel_size=(1, 1), stride=(1, 1), bias=False)\n",
       "      (bn1): BatchNorm2d(64, eps=1e-05, momentum=0.1, affine=True, track_running_stats=True)\n",
       "      (conv2): Conv2d(64, 64, kernel_size=(3, 3), stride=(1, 1), padding=(1, 1), bias=False)\n",
       "      (bn2): BatchNorm2d(64, eps=1e-05, momentum=0.1, affine=True, track_running_stats=True)\n",
       "      (conv3): Conv2d(64, 256, kernel_size=(1, 1), stride=(1, 1), bias=False)\n",
       "      (bn3): BatchNorm2d(256, eps=1e-05, momentum=0.1, affine=True, track_running_stats=True)\n",
       "      (relu): ReLU(inplace)\n",
       "    )\n",
       "  )\n",
       "  (layer2): Sequential(\n",
       "    (0): Bottleneck(\n",
       "      (conv1): Conv2d(256, 128, kernel_size=(1, 1), stride=(1, 1), bias=False)\n",
       "      (bn1): BatchNorm2d(128, eps=1e-05, momentum=0.1, affine=True, track_running_stats=True)\n",
       "      (conv2): Conv2d(128, 128, kernel_size=(3, 3), stride=(2, 2), padding=(1, 1), bias=False)\n",
       "      (bn2): BatchNorm2d(128, eps=1e-05, momentum=0.1, affine=True, track_running_stats=True)\n",
       "      (conv3): Conv2d(128, 512, kernel_size=(1, 1), stride=(1, 1), bias=False)\n",
       "      (bn3): BatchNorm2d(512, eps=1e-05, momentum=0.1, affine=True, track_running_stats=True)\n",
       "      (relu): ReLU(inplace)\n",
       "      (downsample): Sequential(\n",
       "        (0): Conv2d(256, 512, kernel_size=(1, 1), stride=(2, 2), bias=False)\n",
       "        (1): BatchNorm2d(512, eps=1e-05, momentum=0.1, affine=True, track_running_stats=True)\n",
       "      )\n",
       "    )\n",
       "    (1): Bottleneck(\n",
       "      (conv1): Conv2d(512, 128, kernel_size=(1, 1), stride=(1, 1), bias=False)\n",
       "      (bn1): BatchNorm2d(128, eps=1e-05, momentum=0.1, affine=True, track_running_stats=True)\n",
       "      (conv2): Conv2d(128, 128, kernel_size=(3, 3), stride=(1, 1), padding=(1, 1), bias=False)\n",
       "      (bn2): BatchNorm2d(128, eps=1e-05, momentum=0.1, affine=True, track_running_stats=True)\n",
       "      (conv3): Conv2d(128, 512, kernel_size=(1, 1), stride=(1, 1), bias=False)\n",
       "      (bn3): BatchNorm2d(512, eps=1e-05, momentum=0.1, affine=True, track_running_stats=True)\n",
       "      (relu): ReLU(inplace)\n",
       "    )\n",
       "    (2): Bottleneck(\n",
       "      (conv1): Conv2d(512, 128, kernel_size=(1, 1), stride=(1, 1), bias=False)\n",
       "      (bn1): BatchNorm2d(128, eps=1e-05, momentum=0.1, affine=True, track_running_stats=True)\n",
       "      (conv2): Conv2d(128, 128, kernel_size=(3, 3), stride=(1, 1), padding=(1, 1), bias=False)\n",
       "      (bn2): BatchNorm2d(128, eps=1e-05, momentum=0.1, affine=True, track_running_stats=True)\n",
       "      (conv3): Conv2d(128, 512, kernel_size=(1, 1), stride=(1, 1), bias=False)\n",
       "      (bn3): BatchNorm2d(512, eps=1e-05, momentum=0.1, affine=True, track_running_stats=True)\n",
       "      (relu): ReLU(inplace)\n",
       "    )\n",
       "    (3): Bottleneck(\n",
       "      (conv1): Conv2d(512, 128, kernel_size=(1, 1), stride=(1, 1), bias=False)\n",
       "      (bn1): BatchNorm2d(128, eps=1e-05, momentum=0.1, affine=True, track_running_stats=True)\n",
       "      (conv2): Conv2d(128, 128, kernel_size=(3, 3), stride=(1, 1), padding=(1, 1), bias=False)\n",
       "      (bn2): BatchNorm2d(128, eps=1e-05, momentum=0.1, affine=True, track_running_stats=True)\n",
       "      (conv3): Conv2d(128, 512, kernel_size=(1, 1), stride=(1, 1), bias=False)\n",
       "      (bn3): BatchNorm2d(512, eps=1e-05, momentum=0.1, affine=True, track_running_stats=True)\n",
       "      (relu): ReLU(inplace)\n",
       "    )\n",
       "  )\n",
       "  (layer3): Sequential(\n",
       "    (0): Bottleneck(\n",
       "      (conv1): Conv2d(512, 256, kernel_size=(1, 1), stride=(1, 1), bias=False)\n",
       "      (bn1): BatchNorm2d(256, eps=1e-05, momentum=0.1, affine=True, track_running_stats=True)\n",
       "      (conv2): Conv2d(256, 256, kernel_size=(3, 3), stride=(2, 2), padding=(1, 1), bias=False)\n",
       "      (bn2): BatchNorm2d(256, eps=1e-05, momentum=0.1, affine=True, track_running_stats=True)\n",
       "      (conv3): Conv2d(256, 1024, kernel_size=(1, 1), stride=(1, 1), bias=False)\n",
       "      (bn3): BatchNorm2d(1024, eps=1e-05, momentum=0.1, affine=True, track_running_stats=True)\n",
       "      (relu): ReLU(inplace)\n",
       "      (downsample): Sequential(\n",
       "        (0): Conv2d(512, 1024, kernel_size=(1, 1), stride=(2, 2), bias=False)\n",
       "        (1): BatchNorm2d(1024, eps=1e-05, momentum=0.1, affine=True, track_running_stats=True)\n",
       "      )\n",
       "    )\n",
       "    (1): Bottleneck(\n",
       "      (conv1): Conv2d(1024, 256, kernel_size=(1, 1), stride=(1, 1), bias=False)\n",
       "      (bn1): BatchNorm2d(256, eps=1e-05, momentum=0.1, affine=True, track_running_stats=True)\n",
       "      (conv2): Conv2d(256, 256, kernel_size=(3, 3), stride=(1, 1), padding=(1, 1), bias=False)\n",
       "      (bn2): BatchNorm2d(256, eps=1e-05, momentum=0.1, affine=True, track_running_stats=True)\n",
       "      (conv3): Conv2d(256, 1024, kernel_size=(1, 1), stride=(1, 1), bias=False)\n",
       "      (bn3): BatchNorm2d(1024, eps=1e-05, momentum=0.1, affine=True, track_running_stats=True)\n",
       "      (relu): ReLU(inplace)\n",
       "    )\n",
       "    (2): Bottleneck(\n",
       "      (conv1): Conv2d(1024, 256, kernel_size=(1, 1), stride=(1, 1), bias=False)\n",
       "      (bn1): BatchNorm2d(256, eps=1e-05, momentum=0.1, affine=True, track_running_stats=True)\n",
       "      (conv2): Conv2d(256, 256, kernel_size=(3, 3), stride=(1, 1), padding=(1, 1), bias=False)\n",
       "      (bn2): BatchNorm2d(256, eps=1e-05, momentum=0.1, affine=True, track_running_stats=True)\n",
       "      (conv3): Conv2d(256, 1024, kernel_size=(1, 1), stride=(1, 1), bias=False)\n",
       "      (bn3): BatchNorm2d(1024, eps=1e-05, momentum=0.1, affine=True, track_running_stats=True)\n",
       "      (relu): ReLU(inplace)\n",
       "    )\n",
       "    (3): Bottleneck(\n",
       "      (conv1): Conv2d(1024, 256, kernel_size=(1, 1), stride=(1, 1), bias=False)\n",
       "      (bn1): BatchNorm2d(256, eps=1e-05, momentum=0.1, affine=True, track_running_stats=True)\n",
       "      (conv2): Conv2d(256, 256, kernel_size=(3, 3), stride=(1, 1), padding=(1, 1), bias=False)\n",
       "      (bn2): BatchNorm2d(256, eps=1e-05, momentum=0.1, affine=True, track_running_stats=True)\n",
       "      (conv3): Conv2d(256, 1024, kernel_size=(1, 1), stride=(1, 1), bias=False)\n",
       "      (bn3): BatchNorm2d(1024, eps=1e-05, momentum=0.1, affine=True, track_running_stats=True)\n",
       "      (relu): ReLU(inplace)\n",
       "    )\n",
       "    (4): Bottleneck(\n",
       "      (conv1): Conv2d(1024, 256, kernel_size=(1, 1), stride=(1, 1), bias=False)\n",
       "      (bn1): BatchNorm2d(256, eps=1e-05, momentum=0.1, affine=True, track_running_stats=True)\n",
       "      (conv2): Conv2d(256, 256, kernel_size=(3, 3), stride=(1, 1), padding=(1, 1), bias=False)\n",
       "      (bn2): BatchNorm2d(256, eps=1e-05, momentum=0.1, affine=True, track_running_stats=True)\n",
       "      (conv3): Conv2d(256, 1024, kernel_size=(1, 1), stride=(1, 1), bias=False)\n",
       "      (bn3): BatchNorm2d(1024, eps=1e-05, momentum=0.1, affine=True, track_running_stats=True)\n",
       "      (relu): ReLU(inplace)\n",
       "    )\n",
       "    (5): Bottleneck(\n",
       "      (conv1): Conv2d(1024, 256, kernel_size=(1, 1), stride=(1, 1), bias=False)\n",
       "      (bn1): BatchNorm2d(256, eps=1e-05, momentum=0.1, affine=True, track_running_stats=True)\n",
       "      (conv2): Conv2d(256, 256, kernel_size=(3, 3), stride=(1, 1), padding=(1, 1), bias=False)\n",
       "      (bn2): BatchNorm2d(256, eps=1e-05, momentum=0.1, affine=True, track_running_stats=True)\n",
       "      (conv3): Conv2d(256, 1024, kernel_size=(1, 1), stride=(1, 1), bias=False)\n",
       "      (bn3): BatchNorm2d(1024, eps=1e-05, momentum=0.1, affine=True, track_running_stats=True)\n",
       "      (relu): ReLU(inplace)\n",
       "    )\n",
       "  )\n",
       "  (layer4): Sequential(\n",
       "    (0): Bottleneck(\n",
       "      (conv1): Conv2d(1024, 512, kernel_size=(1, 1), stride=(1, 1), bias=False)\n",
       "      (bn1): BatchNorm2d(512, eps=1e-05, momentum=0.1, affine=True, track_running_stats=True)\n",
       "      (conv2): Conv2d(512, 512, kernel_size=(3, 3), stride=(2, 2), padding=(1, 1), bias=False)\n",
       "      (bn2): BatchNorm2d(512, eps=1e-05, momentum=0.1, affine=True, track_running_stats=True)\n",
       "      (conv3): Conv2d(512, 2048, kernel_size=(1, 1), stride=(1, 1), bias=False)\n",
       "      (bn3): BatchNorm2d(2048, eps=1e-05, momentum=0.1, affine=True, track_running_stats=True)\n",
       "      (relu): ReLU(inplace)\n",
       "      (downsample): Sequential(\n",
       "        (0): Conv2d(1024, 2048, kernel_size=(1, 1), stride=(2, 2), bias=False)\n",
       "        (1): BatchNorm2d(2048, eps=1e-05, momentum=0.1, affine=True, track_running_stats=True)\n",
       "      )\n",
       "    )\n",
       "    (1): Bottleneck(\n",
       "      (conv1): Conv2d(2048, 512, kernel_size=(1, 1), stride=(1, 1), bias=False)\n",
       "      (bn1): BatchNorm2d(512, eps=1e-05, momentum=0.1, affine=True, track_running_stats=True)\n",
       "      (conv2): Conv2d(512, 512, kernel_size=(3, 3), stride=(1, 1), padding=(1, 1), bias=False)\n",
       "      (bn2): BatchNorm2d(512, eps=1e-05, momentum=0.1, affine=True, track_running_stats=True)\n",
       "      (conv3): Conv2d(512, 2048, kernel_size=(1, 1), stride=(1, 1), bias=False)\n",
       "      (bn3): BatchNorm2d(2048, eps=1e-05, momentum=0.1, affine=True, track_running_stats=True)\n",
       "      (relu): ReLU(inplace)\n",
       "    )\n",
       "    (2): Bottleneck(\n",
       "      (conv1): Conv2d(2048, 512, kernel_size=(1, 1), stride=(1, 1), bias=False)\n",
       "      (bn1): BatchNorm2d(512, eps=1e-05, momentum=0.1, affine=True, track_running_stats=True)\n",
       "      (conv2): Conv2d(512, 512, kernel_size=(3, 3), stride=(1, 1), padding=(1, 1), bias=False)\n",
       "      (bn2): BatchNorm2d(512, eps=1e-05, momentum=0.1, affine=True, track_running_stats=True)\n",
       "      (conv3): Conv2d(512, 2048, kernel_size=(1, 1), stride=(1, 1), bias=False)\n",
       "      (bn3): BatchNorm2d(2048, eps=1e-05, momentum=0.1, affine=True, track_running_stats=True)\n",
       "      (relu): ReLU(inplace)\n",
       "    )\n",
       "  )\n",
       "  (avgpool): AdaptiveAvgPool2d(output_size=(1, 1))\n",
       "  (fc): Sequential(\n",
       "    (0): Linear(in_features=2048, out_features=1, bias=True)\n",
       "    (1): Sigmoid()\n",
       "  )\n",
       ")"
      ]
     },
     "execution_count": 22,
     "metadata": {},
     "output_type": "execute_result"
    }
   ],
   "source": [
    "model"
   ]
  },
  {
   "cell_type": "code",
   "execution_count": 23,
   "metadata": {
    "_uuid": "67ae74875924d72ccafb15ca5d46498117e875da"
   },
   "outputs": [],
   "source": [
    "# out = model(train_data[0][\"image\"].view(1, 3, 224, 224))"
   ]
  },
  {
   "cell_type": "code",
   "execution_count": 24,
   "metadata": {
    "_uuid": "a3e5a45f190b1546a0fac7bc39ab0bafffa0e630"
   },
   "outputs": [],
   "source": [
    "# out.shape"
   ]
  },
  {
   "cell_type": "code",
   "execution_count": 25,
   "metadata": {
    "_uuid": "6bac38d2858c52d8e44966c53b1b49d59211e48b"
   },
   "outputs": [],
   "source": [
    "# Some utils functions.\n",
    "# Seems like PyTorch does not auto-infer tensor shapes in a sequential model, so we need to figure the shapes ourself.\n",
    "\n",
    "def compute_conv2d_output_dimensions(Hin, Win, kernel_size, padding=(0, 0), dilation=(1, 1), stride=(1, 1)):\n",
    "    Hout = math.floor(((Hin + 2 * padding[0] - dilation[0] * (kernel_size[0] - 1) - 1) / stride[0]) + 1)\n",
    "    Wout = math.floor(((Win + 2 * padding[1] - dilation[1] * (kernel_size[1] - 1) - 1) / stride[1]) + 1)\n",
    "    return Hout, Wout\n",
    "\n",
    "\n",
    "def compute_maxpooling2d_output_dimensions(Hin, Win, kernel_size, stride=None, padding=(0, 0), dilation=(1, 1)):\n",
    "    if stride is None:\n",
    "        stride = kernel_size\n",
    "    \n",
    "    Hout = math.floor(((Hin + 2 * padding[0] - dilation[0] * (kernel_size[0] - 1) - 1) / stride[0]) + 1)\n",
    "    Wout = math.floor(((Win + 2 * padding[1] - dilation[1] * (kernel_size[1] - 1) - 1) / stride[1]) + 1)\n",
    "    return Hout, Wout"
   ]
  },
  {
   "cell_type": "code",
   "execution_count": 26,
   "metadata": {
    "_uuid": "dc24450fe47fd3d2b15002385ffc78e07b1bd781"
   },
   "outputs": [],
   "source": [
    "# compute_conv2d_output_dimensions(96, 96, (3, 3))"
   ]
  },
  {
   "cell_type": "code",
   "execution_count": 27,
   "metadata": {
    "_uuid": "0ea6b3aa71cf8fb4e654f6e38247b6de31eba60b"
   },
   "outputs": [],
   "source": [
    "# compute_maxpooling2d_output_dimensions(94, 94, kernel_size=(2, 2))"
   ]
  },
  {
   "cell_type": "markdown",
   "metadata": {
    "_uuid": "3f29b180dd8ad7e3a23ad495fadaa6c41587777d"
   },
   "source": [
    "**Model training**"
   ]
  },
  {
   "cell_type": "code",
   "execution_count": 28,
   "metadata": {
    "_uuid": "d59db9eaf79310f397694fb80235d444c0e87ad2"
   },
   "outputs": [
    {
     "name": "stdout",
     "output_type": "stream",
     "text": [
      "1:50 - loss: 0.5541956335306167, acc: 0.765\n",
      "1:100 - loss: 0.49443925768136976, acc: 0.79078125\n",
      "1:150 - loss: 0.4721097391843796, acc: 0.7969791666666667\n",
      "1:200 - loss: 0.4612411677837372, acc: 0.799765625\n",
      "1:250 - loss: 0.4511895268559456, acc: 0.8039375\n",
      "1:300 - loss: 0.4417624652882417, acc: 0.8080729166666667\n",
      "1:350 - loss: 0.43339496059077126, acc: 0.8121428571428572\n",
      "1:400 - loss: 0.4278258030116558, acc: 0.8143359375\n",
      "1:450 - loss: 0.4225678190920088, acc: 0.8161458333333333\n",
      "1:500 - loss: 0.4168673585653305, acc: 0.818375\n",
      "1:550 - loss: 0.41478787657889454, acc: 0.819659090909091\n",
      "1:600 - loss: 0.41190163634717464, acc: 0.82140625\n",
      "1:650 - loss: 0.40719664635566566, acc: 0.8233894230769231\n",
      "1:700 - loss: 0.4044973518167223, acc: 0.8250669642857142\n",
      "1:750 - loss: 0.40180455243587493, acc: 0.8265\n",
      "1:800 - loss: 0.39831269735470415, acc: 0.82828125\n",
      "1:850 - loss: 0.3966407494860537, acc: 0.8293014705882353\n",
      "1:900 - loss: 0.3936824873420927, acc: 0.8305902777777778\n",
      "1:950 - loss: 0.3913485365008053, acc: 0.8317105263157895\n",
      "1:1000 - loss: 0.38869498153030874, acc: 0.83284375\n",
      "1:1050 - loss: 0.3860812879885946, acc: 0.8339880952380953\n",
      "1:1100 - loss: 0.38359420476989314, acc: 0.8352130681818182\n",
      "1:1150 - loss: 0.38101536724878393, acc: 0.8365760869565217\n",
      "1:1200 - loss: 0.3783678478995959, acc: 0.8376432291666667\n",
      "1:1250 - loss: 0.37560723472833635, acc: 0.838925\n",
      "1:1300 - loss: 0.37414059632099594, acc: 0.8395432692307693\n",
      "1:1350 - loss: 0.37318663697551796, acc: 0.8398032407407408\n",
      "1:1400 - loss: 0.371808828871165, acc: 0.8403683035714286\n",
      "1:1450 - loss: 0.36987634124427005, acc: 0.8414762931034483\n",
      "1:1500 - loss: 0.36792241913080215, acc: 0.8423645833333333\n",
      "1:1550 - loss: 0.3654043526130338, acc: 0.8433568548387097\n",
      "1:1600 - loss: 0.3629398328997195, acc: 0.844423828125\n",
      "1:1650 - loss: 0.36051056597268943, acc: 0.8453977272727272\n",
      "1:1700 - loss: 0.3590311060056967, acc: 0.8460110294117648\n",
      "1:1750 - loss: 0.35715562091554914, acc: 0.8468839285714286\n",
      "1:1800 - loss: 0.354945859114329, acc: 0.8478819444444444\n",
      "1:1850 - loss: 0.35349945174681174, acc: 0.8485726351351351\n",
      "1:1900 - loss: 0.3514185946709231, acc: 0.8495394736842106\n",
      "1:1950 - loss: 0.3493891229843482, acc: 0.8505769230769231\n",
      "1:2000 - loss: 0.34712678054347634, acc: 0.8516328125\n",
      "1:2050 - loss: 0.3449559105242171, acc: 0.8527515243902439\n",
      "1:2100 - loss: 0.34304914798764957, acc: 0.8537648809523809\n",
      "1:2150 - loss: 0.3412632371034733, acc: 0.8546293604651163\n",
      "1:2200 - loss: 0.33971808008172294, acc: 0.8554261363636364\n",
      "1:2250 - loss: 0.3381706219481097, acc: 0.8561736111111111\n",
      "1:2300 - loss: 0.3362818600852852, acc: 0.8570923913043478\n",
      "1:2350 - loss: 0.335124710167342, acc: 0.8576462765957447\n",
      "1:2400 - loss: 0.3335828907880932, acc: 0.8584244791666666\n",
      "1:2450 - loss: 0.33168424373682664, acc: 0.8592729591836735\n",
      "1:2500 - loss: 0.3303844171613455, acc: 0.85995\n",
      "1:2550 - loss: 0.3282315721523528, acc: 0.8610110294117647\n",
      "epoch: 1 - train loss: 0.3270933392295767, train acc: 0.8615423771952151\n",
      "epoch: 1 - test loss: 0.2649782848962902, test acc: 0.8975584925554929\n",
      "2:50 - loss: 0.25078656181693076, acc: 0.9021875\n",
      "2:100 - loss: 0.23969467408955097, acc: 0.90578125\n",
      "2:150 - loss: 0.2424352980653445, acc: 0.9046875\n",
      "2:200 - loss: 0.24623137135058643, acc: 0.904765625\n",
      "2:250 - loss: 0.24293268686532973, acc: 0.9055\n",
      "2:300 - loss: 0.2385583394765854, acc: 0.9069791666666667\n",
      "2:350 - loss: 0.23954236762864248, acc: 0.9065625\n",
      "2:400 - loss: 0.2365887455455959, acc: 0.9075390625\n",
      "2:450 - loss: 0.23636492614944776, acc: 0.9078819444444445\n",
      "2:500 - loss: 0.2348526429235935, acc: 0.908125\n",
      "2:550 - loss: 0.23517112118276684, acc: 0.9079261363636364\n",
      "2:600 - loss: 0.2349896790459752, acc: 0.9079947916666666\n",
      "2:650 - loss: 0.23347146560366336, acc: 0.9085096153846154\n",
      "2:700 - loss: 0.23246760965457985, acc: 0.9091964285714286\n",
      "2:750 - loss: 0.2333099945684274, acc: 0.9088125\n",
      "2:800 - loss: 0.23156862435862421, acc: 0.909296875\n",
      "2:850 - loss: 0.23117145444540416, acc: 0.9094117647058824\n",
      "2:900 - loss: 0.23043167752524216, acc: 0.9098263888888889\n",
      "2:950 - loss: 0.2308195741239347, acc: 0.9093421052631578\n",
      "2:1000 - loss: 0.22933766788244248, acc: 0.90975\n",
      "2:1050 - loss: 0.22928183452004477, acc: 0.9097321428571429\n",
      "2:1100 - loss: 0.22919294756921854, acc: 0.9098153409090909\n",
      "2:1150 - loss: 0.22894390602474626, acc: 0.91\n",
      "2:1200 - loss: 0.22871775267024835, acc: 0.9099479166666666\n",
      "2:1250 - loss: 0.22918827719688414, acc: 0.9098\n",
      "2:1300 - loss: 0.22830810389839687, acc: 0.9102283653846154\n",
      "2:1350 - loss: 0.22801534403253484, acc: 0.9104166666666667\n",
      "2:1400 - loss: 0.22762845265546014, acc: 0.9106138392857143\n",
      "2:1450 - loss: 0.22786556040932393, acc: 0.9103987068965518\n",
      "2:1500 - loss: 0.22706244538227718, acc: 0.9107291666666667\n",
      "2:1550 - loss: 0.22695687457438438, acc: 0.9108467741935484\n",
      "2:1600 - loss: 0.2264139364194125, acc: 0.91107421875\n",
      "2:1650 - loss: 0.22561656938357788, acc: 0.9115246212121212\n",
      "2:1700 - loss: 0.2249710729192285, acc: 0.9119485294117647\n",
      "2:1750 - loss: 0.22461720960480827, acc: 0.9120535714285715\n",
      "2:1800 - loss: 0.224045500088897, acc: 0.9123524305555556\n",
      "2:1850 - loss: 0.2241291515770796, acc: 0.9123310810810811\n",
      "2:1900 - loss: 0.2239863398396655, acc: 0.912360197368421\n",
      "2:1950 - loss: 0.223771634579469, acc: 0.9125\n",
      "2:2000 - loss: 0.2227438955195248, acc: 0.91296875\n",
      "2:2050 - loss: 0.22243520954033225, acc: 0.9130182926829268\n",
      "2:2100 - loss: 0.2216827035198609, acc: 0.9133035714285714\n",
      "2:2150 - loss: 0.221531988351151, acc: 0.9133575581395349\n",
      "2:2200 - loss: 0.22113027092746712, acc: 0.913643465909091\n",
      "2:2250 - loss: 0.22119139242503377, acc: 0.9136805555555556\n",
      "2:2300 - loss: 0.22107666341506915, acc: 0.9137771739130435\n",
      "2:2350 - loss: 0.22029636319330398, acc: 0.9141023936170213\n",
      "2:2400 - loss: 0.2202689806713412, acc: 0.9141341145833334\n",
      "2:2450 - loss: 0.22020823121070862, acc: 0.914170918367347\n",
      "2:2500 - loss: 0.21979641110897064, acc: 0.9143875\n",
      "2:2550 - loss: 0.21939400053783958, acc: 0.9146017156862745\n",
      "epoch: 2 - train loss: 0.2192153699394371, train acc: 0.9146941545770765\n",
      "epoch: 2 - test loss: 0.22560002883995753, test acc: 0.9133019433890233\n",
      "3:50 - loss: 0.17775605857372284, acc: 0.93625\n",
      "3:100 - loss: 0.18999786265194415, acc: 0.929375\n",
      "3:150 - loss: 0.20051451941331228, acc: 0.9255208333333333\n",
      "3:200 - loss: 0.19597648339346052, acc: 0.927421875\n",
      "3:250 - loss: 0.19821873359382153, acc: 0.925125\n",
      "3:300 - loss: 0.19896998905887206, acc: 0.9252604166666667\n",
      "3:350 - loss: 0.19880992185856614, acc: 0.9249107142857143\n",
      "3:400 - loss: 0.19842335117049514, acc: 0.9246875\n",
      "3:450 - loss: 0.19993371105028523, acc: 0.9236111111111112\n",
      "3:500 - loss: 0.19913314362615347, acc: 0.9239375\n",
      "3:550 - loss: 0.19863109597428277, acc: 0.9242329545454545\n",
      "3:600 - loss: 0.1972033830670019, acc: 0.92484375\n",
      "3:650 - loss: 0.19807936693040223, acc: 0.924639423076923\n",
      "3:700 - loss: 0.19708761391362975, acc: 0.9248214285714286\n",
      "3:750 - loss: 0.19634601071973642, acc: 0.9251875\n",
      "3:800 - loss: 0.19567246597725899, acc: 0.925625\n",
      "3:850 - loss: 0.19502089387792, acc: 0.925625\n",
      "3:900 - loss: 0.19466209787875413, acc: 0.9258506944444445\n",
      "3:950 - loss: 0.19446162459489547, acc: 0.92625\n",
      "3:1000 - loss: 0.19416771145537495, acc: 0.926421875\n",
      "3:1050 - loss: 0.19396683601041634, acc: 0.9265178571428572\n",
      "3:1100 - loss: 0.1937193701788783, acc: 0.9265909090909091\n",
      "3:1150 - loss: 0.19275682380989842, acc: 0.9268614130434782\n",
      "3:1200 - loss: 0.1918201004123936, acc: 0.9270182291666667\n",
      "3:1250 - loss: 0.19180752064883708, acc: 0.92695\n",
      "3:1300 - loss: 0.19157912648927708, acc: 0.9269591346153846\n",
      "3:1350 - loss: 0.1913226842024812, acc: 0.9271180555555556\n",
      "3:1400 - loss: 0.19101013084341373, acc: 0.9271540178571429\n",
      "3:1450 - loss: 0.19131252839390575, acc: 0.9272198275862069\n",
      "3:1500 - loss: 0.19165971917659044, acc: 0.9270208333333333\n",
      "3:1550 - loss: 0.19196164384724632, acc: 0.9269959677419355\n",
      "3:1600 - loss: 0.19150987121509389, acc: 0.92703125\n",
      "3:1650 - loss: 0.19111078899240855, acc: 0.9272821969696969\n",
      "3:1700 - loss: 0.19078779098084744, acc: 0.9273529411764706\n",
      "3:1750 - loss: 0.19058310192184788, acc: 0.9273839285714286\n",
      "3:1800 - loss: 0.19037796163103646, acc: 0.9275173611111112\n",
      "3:1850 - loss: 0.18997265038659444, acc: 0.9275760135135135\n",
      "3:1900 - loss: 0.1899813931847089, acc: 0.9275411184210526\n",
      "3:1950 - loss: 0.18996052429653132, acc: 0.9276522435897436\n"
     ]
    },
    {
     "name": "stdout",
     "output_type": "stream",
     "text": [
      "3:2000 - loss: 0.19026232855953276, acc: 0.927421875\n",
      "3:2050 - loss: 0.19035640619331742, acc: 0.927454268292683\n",
      "3:2100 - loss: 0.19028847430788334, acc: 0.9275372023809524\n",
      "3:2150 - loss: 0.19010179292323978, acc: 0.9276308139534883\n",
      "3:2200 - loss: 0.18987586038356477, acc: 0.9276775568181819\n",
      "3:2250 - loss: 0.18956715349025197, acc: 0.9277291666666667\n",
      "3:2300 - loss: 0.18957754661855492, acc: 0.9276970108695652\n",
      "3:2350 - loss: 0.18969646343842467, acc: 0.9276462765957447\n",
      "3:2400 - loss: 0.18945383802366753, acc: 0.9278059895833334\n",
      "3:2450 - loss: 0.18952480147383652, acc: 0.9277806122448979\n",
      "3:2500 - loss: 0.18955277830958367, acc: 0.92778125\n",
      "3:2550 - loss: 0.1894035215500523, acc: 0.9278860294117647\n",
      "epoch: 3 - train loss: 0.18936319791370115, train acc: 0.927959374128883\n",
      "epoch: 3 - test loss: 0.17596655296648062, test acc: 0.9319359354264003\n",
      "4:50 - loss: 0.213369060754776, acc: 0.916875\n",
      "4:100 - loss: 0.19105197995901108, acc: 0.92640625\n",
      "4:150 - loss: 0.18192161671817303, acc: 0.9296875\n",
      "4:200 - loss: 0.18027769831940532, acc: 0.931171875\n",
      "4:250 - loss: 0.17615056531131268, acc: 0.933625\n",
      "4:300 - loss: 0.17725446143498022, acc: 0.9327083333333334\n",
      "4:350 - loss: 0.17694500185549258, acc: 0.9328571428571428\n",
      "4:400 - loss: 0.17672286090441047, acc: 0.932734375\n",
      "4:450 - loss: 0.17543149166636995, acc: 0.9331944444444444\n",
      "4:500 - loss: 0.17616119262576102, acc: 0.933375\n",
      "4:550 - loss: 0.17607091321186585, acc: 0.9331818181818182\n",
      "4:600 - loss: 0.17505970787256955, acc: 0.9338802083333333\n",
      "4:650 - loss: 0.17545012071728705, acc: 0.9339663461538461\n",
      "4:700 - loss: 0.17562647820051228, acc: 0.9341964285714286\n",
      "4:750 - loss: 0.17456530920167765, acc: 0.9347916666666667\n",
      "4:800 - loss: 0.17400963291060179, acc: 0.93498046875\n",
      "4:850 - loss: 0.1730881057022249, acc: 0.9353492647058823\n",
      "4:900 - loss: 0.1733851058781147, acc: 0.9352604166666667\n",
      "4:950 - loss: 0.1735173564051327, acc: 0.9356578947368421\n",
      "4:1000 - loss: 0.1736277546957135, acc: 0.9355\n",
      "4:1050 - loss: 0.1739564508767355, acc: 0.9352083333333333\n",
      "4:1100 - loss: 0.17437057559463112, acc: 0.9350142045454546\n",
      "4:1150 - loss: 0.17376959049831267, acc: 0.9353532608695653\n",
      "4:1200 - loss: 0.1733300571454068, acc: 0.9354427083333333\n",
      "4:1250 - loss: 0.1732755719423294, acc: 0.9354375\n",
      "4:1300 - loss: 0.17293079802623162, acc: 0.9355288461538461\n",
      "4:1350 - loss: 0.1732217798464828, acc: 0.9354861111111111\n",
      "4:1400 - loss: 0.17314018878819687, acc: 0.9355022321428571\n",
      "4:1450 - loss: 0.1732966669546119, acc: 0.935334051724138\n",
      "4:1500 - loss: 0.17326390296965838, acc: 0.93528125\n",
      "4:1550 - loss: 0.17331432909494446, acc: 0.9353326612903226\n",
      "4:1600 - loss: 0.1734968335716985, acc: 0.93521484375\n",
      "4:1650 - loss: 0.17337819489339987, acc: 0.9352651515151515\n",
      "4:1700 - loss: 0.17362018576658825, acc: 0.9351378676470589\n",
      "4:1750 - loss: 0.17321591094349112, acc: 0.9353125\n",
      "4:1800 - loss: 0.1729996960506671, acc: 0.9352604166666667\n",
      "4:1850 - loss: 0.17320796711823425, acc: 0.9352702702702703\n",
      "4:1900 - loss: 0.17257576420707138, acc: 0.9355509868421052\n",
      "4:1950 - loss: 0.17252681199747782, acc: 0.9355048076923077\n",
      "4:2000 - loss: 0.17244188955798745, acc: 0.935546875\n",
      "4:2050 - loss: 0.1720688094453114, acc: 0.9357393292682927\n",
      "4:2100 - loss: 0.17194040448892683, acc: 0.9357440476190476\n",
      "4:2150 - loss: 0.17169347147435643, acc: 0.9358938953488372\n",
      "4:2200 - loss: 0.17126951372250915, acc: 0.9361079545454546\n",
      "4:2250 - loss: 0.17119394911163383, acc: 0.9361111111111111\n",
      "4:2300 - loss: 0.17087633739509012, acc: 0.9362364130434783\n",
      "4:2350 - loss: 0.17057679812166285, acc: 0.9362898936170213\n",
      "4:2400 - loss: 0.17070597779005767, acc: 0.9362825520833333\n",
      "4:2450 - loss: 0.17065433000727576, acc: 0.9363010204081633\n",
      "4:2500 - loss: 0.1706295973241329, acc: 0.93630625\n",
      "4:2550 - loss: 0.17053278480966885, acc: 0.936280637254902\n",
      "epoch: 4 - train loss: 0.17053970857732484, train acc: 0.9362978584154455\n",
      "epoch: 4 - test loss: 0.16022418820904272, test acc: 0.9404984820113804\n",
      "5:50 - loss: 0.15730608209967614, acc: 0.943125\n",
      "5:100 - loss: 0.15414345022290946, acc: 0.94578125\n",
      "5:150 - loss: 0.15387360530594985, acc: 0.9455208333333334\n",
      "5:200 - loss: 0.15447268050163984, acc: 0.944765625\n",
      "5:250 - loss: 0.1540818426311016, acc: 0.9446875\n",
      "5:300 - loss: 0.15628319710493088, acc: 0.9434895833333333\n",
      "5:350 - loss: 0.15594124037240234, acc: 0.9430803571428571\n",
      "5:400 - loss: 0.15195473787374794, acc: 0.94453125\n",
      "5:450 - loss: 0.15477299865749147, acc: 0.9434722222222223\n",
      "5:500 - loss: 0.15587603248655796, acc: 0.94290625\n",
      "5:550 - loss: 0.15488646210594612, acc: 0.943125\n",
      "5:600 - loss: 0.1549556708087524, acc: 0.943046875\n",
      "5:650 - loss: 0.15473519234703137, acc: 0.9429086538461539\n",
      "5:700 - loss: 0.1539421485843403, acc: 0.9428794642857142\n",
      "5:750 - loss: 0.15408188538253306, acc: 0.9427083333333334\n",
      "5:800 - loss: 0.1541877097869292, acc: 0.942421875\n",
      "5:850 - loss: 0.15507963137591588, acc: 0.9420404411764706\n",
      "5:900 - loss: 0.1540904475748539, acc: 0.9426215277777777\n",
      "5:950 - loss: 0.15338858366012573, acc: 0.9430921052631579\n",
      "5:1000 - loss: 0.15362690094858408, acc: 0.943046875\n",
      "5:1050 - loss: 0.1534849487245083, acc: 0.943125\n",
      "5:1100 - loss: 0.15353525297208265, acc: 0.94296875\n",
      "5:1150 - loss: 0.15422985290703567, acc: 0.9425951086956522\n",
      "5:1200 - loss: 0.15416340292120972, acc: 0.9425390625\n",
      "5:1250 - loss: 0.15383886661529542, acc: 0.9428375\n",
      "5:1300 - loss: 0.15359609177479377, acc: 0.9428605769230769\n",
      "5:1350 - loss: 0.15384202962120375, acc: 0.9426273148148148\n",
      "5:1400 - loss: 0.15388201728729264, acc: 0.9428125\n",
      "5:1450 - loss: 0.15368922898481632, acc: 0.9428125\n",
      "5:1500 - loss: 0.15431455145279566, acc: 0.942625\n",
      "5:1550 - loss: 0.15490771502256392, acc: 0.9423689516129032\n",
      "5:1600 - loss: 0.1544702713144943, acc: 0.942451171875\n",
      "5:1650 - loss: 0.15445793737290484, acc: 0.9425\n",
      "5:1700 - loss: 0.15433738383300163, acc: 0.9426470588235294\n",
      "5:1750 - loss: 0.1545821450480393, acc: 0.9424910714285715\n",
      "5:1800 - loss: 0.1543807405212687, acc: 0.9425347222222222\n",
      "5:1850 - loss: 0.15418205030866572, acc: 0.9426858108108108\n",
      "5:1900 - loss: 0.15421897019210615, acc: 0.9427796052631578\n",
      "5:1950 - loss: 0.1540043593962223, acc: 0.9427964743589744\n",
      "5:2000 - loss: 0.15353292322717607, acc: 0.94290625\n",
      "5:2050 - loss: 0.15346574341560282, acc: 0.9429954268292683\n",
      "5:2100 - loss: 0.153635404138338, acc: 0.9430208333333333\n",
      "5:2150 - loss: 0.15370828750348367, acc: 0.9429433139534884\n",
      "5:2200 - loss: 0.1532335890203037, acc: 0.9431534090909091\n",
      "5:2250 - loss: 0.15302852353122498, acc: 0.9432083333333333\n",
      "5:2300 - loss: 0.15324474387518738, acc: 0.9430910326086956\n",
      "5:2350 - loss: 0.15337525006938488, acc: 0.9431316489361702\n",
      "5:2400 - loss: 0.15329526052965473, acc: 0.9432356770833333\n",
      "5:2450 - loss: 0.1530210934275267, acc: 0.9433418367346939\n",
      "5:2500 - loss: 0.15308916965276004, acc: 0.94334375\n",
      "5:2550 - loss: 0.15289786266053423, acc: 0.9433578431372549\n",
      "epoch: 5 - train loss: 0.15283522646470593, train acc: 0.9434061738719413\n",
      "epoch: 5 - test loss: 0.13355487901975113, test acc: 0.9500427218354027\n"
     ]
    }
   ],
   "source": [
    "if USE_GPU:\n",
    "    model = model.cuda() # Should be called before instantiating optimizer according to docs: https://pytorch.org/docs/stable/nn.html\n",
    "\n",
    "optimizer = torch.optim.Adam(model.parameters())\n",
    "criterion = torch.nn.BCELoss()\n",
    "\n",
    "best_model_wts = copy.deepcopy(model.state_dict())\n",
    "best_acc = 0.0\n",
    "\n",
    "for i in range(EPOCHS):\n",
    "    for phase in [\"train\", \"test\"]:\n",
    "        if phase == \"train\":\n",
    "            model.train()\n",
    "        else:\n",
    "            model.eval()\n",
    "        \n",
    "        samples = 0\n",
    "        loss_sum = 0\n",
    "        correct_sum = 0\n",
    "        for j, batch in enumerate(dataloaders[phase]):\n",
    "            X = batch[\"image\"]\n",
    "            labels = batch[\"label\"]\n",
    "            if USE_GPU:\n",
    "                X = X.cuda()\n",
    "                labels = labels.cuda()\n",
    "\n",
    "            optimizer.zero_grad()\n",
    "\n",
    "            with torch.set_grad_enabled(phase == 'train'):\n",
    "                y = model(X)\n",
    "                loss = criterion(\n",
    "                    y, \n",
    "                    labels.view(-1, 1).float()\n",
    "                )\n",
    "\n",
    "                if phase == \"train\":\n",
    "                    loss.backward()\n",
    "                    optimizer.step()\n",
    "                    \n",
    "                loss_sum += loss.item() * X.shape[0] # We need to multiple by batch size as loss is the mean loss of the samples in the batch\n",
    "                samples += X.shape[0]\n",
    "                num_corrects = torch.sum((y >= 0.5).float() == labels.view(-1, 1).float())\n",
    "                correct_sum += num_corrects\n",
    "                \n",
    "                # Print batch statistics every 50 batches\n",
    "                if j % 50 == 49 and phase == \"train\":\n",
    "                    print(\"{}:{} - loss: {}, acc: {}\".format(\n",
    "                        i + 1, \n",
    "                        j + 1, \n",
    "                        float(loss_sum) / float(samples), \n",
    "                        float(correct_sum) / float(samples)\n",
    "                    ))\n",
    "                \n",
    "        # Print epoch statistics\n",
    "        epoch_acc = float(correct_sum) / float(samples)\n",
    "        epoch_loss = float(loss_sum) / float(samples)\n",
    "        print(\"epoch: {} - {} loss: {}, {} acc: {}\".format(i + 1, phase, epoch_loss, phase, epoch_acc))\n",
    "        \n",
    "        # Deep copy the model\n",
    "        if phase == \"test\" and epoch_acc > best_acc:\n",
    "            best_acc = epoch_acc\n",
    "            best_model_wts = copy.deepcopy(model.state_dict())\n",
    "            torch.save(best_model_wts, \"resnet50.pth\")"
   ]
  },
  {
   "cell_type": "markdown",
   "metadata": {
    "_uuid": "868d7222941e9f12ccb81d2236b5f6fc5343b67c"
   },
   "source": [
    "**Persist latest model**"
   ]
  },
  {
   "cell_type": "code",
   "execution_count": 29,
   "metadata": {
    "_uuid": "b088d1389ec07e2062ad8ee021d090206adade37"
   },
   "outputs": [],
   "source": [
    "# torch.save(best_model_wts, \"resnet50.pth\")"
   ]
  },
  {
   "cell_type": "markdown",
   "metadata": {
    "_uuid": "a71c3ae63bb75481a42d72076a318f87f7c1f781"
   },
   "source": [
    "**Reconstruct model from saved weights**"
   ]
  },
  {
   "cell_type": "code",
   "execution_count": 30,
   "metadata": {
    "_uuid": "f47a9938a9696fa2d51e1087efb2d0a5bcd7689c"
   },
   "outputs": [],
   "source": [
    "model1 = torchvision.models.resnet50()\n",
    "model1.fc = torch.nn.Sequential(\n",
    "    torch.nn.Linear(\n",
    "        in_features=2048,\n",
    "        out_features=1\n",
    "    ),\n",
    "    torch.nn.Sigmoid()\n",
    ")\n",
    "model1.load_state_dict(torch.load(\"resnet50.pth\"))"
   ]
  },
  {
   "cell_type": "markdown",
   "metadata": {
    "_uuid": "eb5f948c07f5a13ea174f0c90d86d95f12efc7a6"
   },
   "source": [
    "**Make predictions**"
   ]
  },
  {
   "cell_type": "code",
   "execution_count": 31,
   "metadata": {
    "_uuid": "b27cb59293b4645d4421fae368195f59c792c5b0"
   },
   "outputs": [],
   "source": [
    "test_data = HistopathologicCancerDataset(\n",
    "    img_dir=\"../input/test/\",\n",
    "    transform=transform_pipe\n",
    ")"
   ]
  },
  {
   "cell_type": "code",
   "execution_count": 32,
   "metadata": {
    "_uuid": "69726b65aa54a73effdc571cafa1880b24c83603"
   },
   "outputs": [],
   "source": [
    "test_loader1 = torch.utils.data.DataLoader(\n",
    "    test_data,\n",
    "    batch_size=64,\n",
    "#     shuffle=True,\n",
    "#     num_workers=8\n",
    ")"
   ]
  },
  {
   "cell_type": "code",
   "execution_count": 33,
   "metadata": {
    "_uuid": "89bdaad8df07738b0af1c8d536f62ef7207165c6"
   },
   "outputs": [
    {
     "name": "stdout",
     "output_type": "stream",
     "text": [
      "Done making predictions!\n"
     ]
    }
   ],
   "source": [
    "model1.eval()\n",
    "if USE_GPU:\n",
    "    model1 = model1.cuda()\n",
    "\n",
    "ids_all = []\n",
    "predictions = []\n",
    "\n",
    "for j, batch in enumerate(test_loader1):\n",
    "    X = batch[\"image\"]\n",
    "    ids = batch[\"id\"]\n",
    "    if USE_GPU:\n",
    "        X = X.cuda()\n",
    "    \n",
    "    for _id in ids:\n",
    "        ids_all.append(_id)\n",
    "\n",
    "    with torch.set_grad_enabled(False):\n",
    "        y_pred = model1(X)\n",
    "        predictions.append((y_pred >= 0.5).float().cpu().numpy())\n",
    "        \n",
    "print(\"Done making predictions!\")"
   ]
  },
  {
   "cell_type": "code",
   "execution_count": 34,
   "metadata": {
    "_uuid": "b4872db3ea679655a43d7c24aa79b0583a2016ba"
   },
   "outputs": [],
   "source": [
    "submissions = pd.DataFrame({\n",
    "    \"id\": ids_all,\n",
    "    \"label\": np.concatenate(predictions).reshape(-1,).astype(\"int\")\n",
    "}).set_index(\"id\")"
   ]
  },
  {
   "cell_type": "code",
   "execution_count": 35,
   "metadata": {
    "_uuid": "4bfe438e6e6a8efb18fe12c59c56aed3bd4150b3"
   },
   "outputs": [
    {
     "data": {
      "text/html": [
       "<div>\n",
       "<style scoped>\n",
       "    .dataframe tbody tr th:only-of-type {\n",
       "        vertical-align: middle;\n",
       "    }\n",
       "\n",
       "    .dataframe tbody tr th {\n",
       "        vertical-align: top;\n",
       "    }\n",
       "\n",
       "    .dataframe thead th {\n",
       "        text-align: right;\n",
       "    }\n",
       "</style>\n",
       "<table border=\"1\" class=\"dataframe\">\n",
       "  <thead>\n",
       "    <tr style=\"text-align: right;\">\n",
       "      <th></th>\n",
       "      <th>label</th>\n",
       "    </tr>\n",
       "    <tr>\n",
       "      <th>id</th>\n",
       "      <th></th>\n",
       "    </tr>\n",
       "  </thead>\n",
       "  <tbody>\n",
       "    <tr>\n",
       "      <th>e9d30682a1d9577d1e392258f0f2a8d8b966ab13</th>\n",
       "      <td>0</td>\n",
       "    </tr>\n",
       "    <tr>\n",
       "      <th>70ab2d5e46e5b8983664488534af80ed500d501c</th>\n",
       "      <td>0</td>\n",
       "    </tr>\n",
       "    <tr>\n",
       "      <th>4cb23f986fffdc7b76430f1d1dc0108f902dee03</th>\n",
       "      <td>1</td>\n",
       "    </tr>\n",
       "    <tr>\n",
       "      <th>b0923ef9407bd47f6027a6b620e877fc67402da9</th>\n",
       "      <td>0</td>\n",
       "    </tr>\n",
       "    <tr>\n",
       "      <th>50c513de531389f9631afbc25dfa037fd7c91547</th>\n",
       "      <td>1</td>\n",
       "    </tr>\n",
       "  </tbody>\n",
       "</table>\n",
       "</div>"
      ],
      "text/plain": [
       "                                          label\n",
       "id                                             \n",
       "e9d30682a1d9577d1e392258f0f2a8d8b966ab13      0\n",
       "70ab2d5e46e5b8983664488534af80ed500d501c      0\n",
       "4cb23f986fffdc7b76430f1d1dc0108f902dee03      1\n",
       "b0923ef9407bd47f6027a6b620e877fc67402da9      0\n",
       "50c513de531389f9631afbc25dfa037fd7c91547      1"
      ]
     },
     "execution_count": 35,
     "metadata": {},
     "output_type": "execute_result"
    }
   ],
   "source": [
    "submissions.head()"
   ]
  },
  {
   "cell_type": "code",
   "execution_count": 36,
   "metadata": {
    "_uuid": "3c726f83f64226d321af3a15d8149960679aab20"
   },
   "outputs": [],
   "source": [
    "submissions.to_csv(\"submissions.csv\")"
   ]
  },
  {
   "cell_type": "code",
   "execution_count": null,
   "metadata": {
    "_uuid": "c958435d7f7fc5298fc4d5c288d9ec871a8ba9e5"
   },
   "outputs": [],
   "source": []
  }
 ],
 "metadata": {
  "kernelspec": {
   "display_name": "Python 3",
   "language": "python",
   "name": "python3"
  },
  "language_info": {
   "codemirror_mode": {
    "name": "ipython",
    "version": 3
   },
   "file_extension": ".py",
   "mimetype": "text/x-python",
   "name": "python",
   "nbconvert_exporter": "python",
   "pygments_lexer": "ipython3",
   "version": "3.7.1"
  }
 },
 "nbformat": 4,
 "nbformat_minor": 1
}
