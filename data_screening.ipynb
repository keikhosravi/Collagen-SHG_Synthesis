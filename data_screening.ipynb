{
 "cells": [
  {
   "cell_type": "code",
   "execution_count": 1,
   "metadata": {},
   "outputs": [],
   "source": [
    "import numpy as np\n",
    "import datanewn as dt\n",
    "import os\n",
    "from torch.utils.data import DataLoader\n",
    "from skimage.filters import sobel\n",
    "from skimage import color\n",
    "from skimage.io import imsave"
   ]
  },
  {
   "cell_type": "code",
   "execution_count": null,
   "metadata": {},
   "outputs": [],
   "source": [
    "csvFilePath = dt.get_csv_path()\n",
    "print(csvFilePath)\n",
    "transformed_dataset = dt.HE_SHG_Dataset(csv_file=csvFilePath,\n",
    "                                               transform=dt.Compose([                                              \n",
    "                                               dt.Rescale(96),                                     \n",
    "                                               dt.Normalize(),\n",
    "                                               dt.ToTensor()\n",
    "                                           ]))\n",
    "# TODO: change the normalization parameters\n",
    "dataloader = DataLoader(transformed_dataset, batch_size=50,\n",
    "                        shuffle=True, num_workers=0)\n",
    "print(len(transformed_dataset))"
   ]
  },
  {
   "cell_type": "code",
   "execution_count": null,
   "metadata": {},
   "outputs": [],
   "source": [
    "def save_batch(he_batch, shg_batch, iteration):\n",
    "    cwd = os.getcwd();\n",
    "    for index, he_img, shg_img in enumerate(zip(he_batch, shg_batch))\n",
    "        shgpath = os.path.join(cwd, 'Screened', 'SHG', str(iteration)+str(index)+\".png\")\n",
    "        hepath = os.path.join(cwd, 'Screened', 'HE', str(iteration)+str(index)+\".png\")\n",
    "        imsave(shgpath, shg_img)\n",
    "        imsave(hepath, he_img)\n",
    "\n",
    "def avg_edge_index(img_batch):\n",
    "    batch_edge = np.zeros((img_batch.shape(0)))\n",
    "    for iteration, img in enumerate(img_batch):\n",
    "        hsv = color.rgb2hsv(img)\n",
    "        v = 1 - hsv[:, :, 2]\n",
    "        edge_sobel = sobel(img)\n",
    "        avg = edge_sobel / sum(v)\n",
    "        batch_edge[iteration] = avg\n",
    "    return np.argsort(batch_edge)\n",
    "\n",
    "def rank_img(he_batch, shg_batch, index):\n",
    "    size = shg_batch.shape(0)\n",
    "    valid = round(size / 1.5)\n",
    "    he_batch = he_batch[index]\n",
    "    shg_batch = shg_batch[index]\n",
    "    he_batch = he_batch[0:valid]\n",
    "    shg_batch = shg_batch[0:valid]\n",
    "    return he_batch, shg_batch\n",
    "    "
   ]
  },
  {
   "cell_type": "code",
   "execution_count": null,
   "metadata": {},
   "outputs": [],
   "source": [
    "def screen():\n",
    "    for iteration, batch in enumerate(dataloader):\n",
    "        he_batch, shg_batch = batch['input'], batch['output']\n",
    "        he_batch = he_batch.numpy().transpose((1, 2, 0))\n",
    "        shg_batch = shg_batch.numpy().transpose((1, 2, 0))\n",
    "        index = avg_edge_index(he_batch)\n",
    "        rank_img(he_batch, shg_batch, index)\n",
    "        save_batch(he_batch, shg_batch, iteration)"
   ]
  }
 ],
 "metadata": {
  "kernelspec": {
   "display_name": "Python 3",
   "language": "python",
   "name": "python3"
  },
  "language_info": {
   "codemirror_mode": {
    "name": "ipython",
    "version": 3
   },
   "file_extension": ".py",
   "mimetype": "text/x-python",
   "name": "python",
   "nbconvert_exporter": "python",
   "pygments_lexer": "ipython3",
   "version": "3.7.2"
  }
 },
 "nbformat": 4,
 "nbformat_minor": 2
}
