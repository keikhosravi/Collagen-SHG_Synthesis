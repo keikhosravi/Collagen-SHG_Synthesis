{
 "cells": [
  {
   "cell_type": "code",
   "execution_count": 1,
   "metadata": {},
   "outputs": [
    {
     "name": "stdout",
     "output_type": "stream",
     "text": [
      "Added 375 JARs to the Java classpath.\n"
     ]
    }
   ],
   "source": [
    "from __future__ import print_function, division\n",
    "import shutil, sys  \n",
    "import torch\n",
    "import torch.nn as nn\n",
    "import Reconstruction_dataset as dt\n",
    "import model_4_o as mdo\n",
    "import model_ResUGAN as md\n",
    "import numpy as np\n",
    "import os, glob\n",
    "from torch.utils.data import Dataset, DataLoader\n",
    "from collections import OrderedDict\n",
    "import matplotlib.pyplot as plt\n",
    "from torchvision import transforms, datasets, utils, models\n",
    "import pandas as pd\n",
    "import math\n",
    "import torchvision\n",
    "from skimage import io, transform, img_as_float, exposure\n",
    "import cv2\n",
    "from tkinter.filedialog import askopenfilename, askopenfilenames\n",
    "from skimage.transform import rescale, resize, downscale_local_mean\n",
    "import imagej\n",
    "ij=imagej.init(r'C:\\fiji-win64\\Fiji.app')"
   ]
  },
  {
   "cell_type": "code",
   "execution_count": 2,
   "metadata": {},
   "outputs": [],
   "source": [
    "def get_image_names():\n",
    "    \n",
    "    filenames = askopenfilenames()\n",
    "    \n",
    "    return filenames"
   ]
  },
  {
   "cell_type": "code",
   "execution_count": 3,
   "metadata": {},
   "outputs": [],
   "source": [
    "def image_padding(image, stride, patch_size):\n",
    "    \n",
    "    y_size = image.shape[0]\n",
    "    x_size = image.shape[1]\n",
    "    (dy,my)=divmod(y_size-patch_size,stride)\n",
    "    (dx,mx)=divmod(x_size-patch_size,stride)\n",
    "    dif_y=stride-my\n",
    "    dif_x=stride-mx\n",
    "    if (my > 0 ):\n",
    "        \n",
    "        new_y_size = y_size + dif_y\n",
    "        pad_y = dif_y\n",
    "        \n",
    "    else:\n",
    "    \n",
    "        new_y_size = y_size\n",
    "        pad_y = my\n",
    "    if (mx > 0 ):   \n",
    "        new_x_size = x_size + dif_x\n",
    "        pad_x = dif_x\n",
    "    else:\n",
    "        new_x_size = x_size\n",
    "        pad_x = mx\n",
    "    \n",
    "    image_resized = resize(image, (new_y_size, new_x_size))\n",
    "    padded_image= cv2.copyMakeBorder(image,0,pad_y,0,pad_x,cv2.BORDER_CONSTANT,value=0)\n",
    "    \n",
    "    return (padded_image,pad_y,pad_x)"
   ]
  },
  {
   "cell_type": "code",
   "execution_count": 4,
   "metadata": {},
   "outputs": [],
   "source": [
    "def patch_num_calculator(image,patch_size, stride):\n",
    "    \n",
    "    y_size = image.shape[0]\n",
    "    x_size = image.shape[1]\n",
    "\n",
    "    rows_patch_num = int(math.floor((image.shape[0]-patch_size)/stride)+1)\n",
    "    culs_patch_num = int(math.floor((image.shape[1]-patch_size)/stride)+1)\n",
    "\n",
    "    return (rows_patch_num,culs_patch_num)"
   ]
  },
  {
   "cell_type": "code",
   "execution_count": 15,
   "metadata": {},
   "outputs": [],
   "source": [
    "def image_to_minibatch(image, stride,patch_size, rows_patch_num,culs_patch_num, unpadd_patch, HE_name):\n",
    "    \n",
    "    path = os.getcwd()  \n",
    "           \n",
    "    output_path1 =os.path.join(path, \"Patches\", \"SA_Stroma_SHG\")\n",
    "    img_name = HE_name.split('/')[-1].split('.tif')[0]\n",
    "    output_path =os.path.join(output_path1, img_name)\n",
    "\n",
    "    if ( os.path.exists(output_path) != True):\n",
    "            os.mkdir(output_path) \n",
    "                                  \n",
    "    config_file=os.path.join(output_path, \"TileConfiguration.txt\")\n",
    "    config = open(config_file,\"w+\")\n",
    "    openning_text = \"# Define the number of dimensions we are working on\" + \"\\n\" + \"dim = 2\" + \"\\n\\n\" + \"# Define the image coordinates\"+ \"\\n\"\n",
    "    config.write(openning_text)\n",
    "    to_be_cropped_row=[]\n",
    "    to_be_cropped_col=[]\n",
    "    for i in range(rows_patch_num):\n",
    "        for j in range(culs_patch_num):\n",
    "\n",
    "             HEpatch=image[i*stride : i*stride + patch_size, j*stride : j*stride + patch_size]\n",
    "             col = i*stride - unpadd_patch\n",
    "             row = j*stride - unpadd_patch\n",
    "             image_name = img_name + \"_SHGpatch_\" + i.__str__() +\"_\" + j.__str__() +\".tif\"\n",
    "             image_path=os.path.join(output_path, image_name)\n",
    "             coordinates = \"; ;\" + \" (\" + row.__str__()  + \",\" + col.__str__()  + \")\" + \"\\n\"\n",
    "             config_text = image_name + coordinates\n",
    "             config.write(config_text)\n",
    "             io.imsave(image_path,HEpatch)\n",
    "             if (i == rows_patch_num-1):\n",
    "                to_be_cropped_row.append(image_name)\n",
    "             if (j == culs_patch_num-1):\n",
    "                to_be_cropped_col.append(image_name)\n",
    "    config.close()\n",
    "    return (output_path, to_be_cropped_row, to_be_cropped_col)"
   ]
  },
  {
   "cell_type": "code",
   "execution_count": 16,
   "metadata": {},
   "outputs": [],
   "source": [
    "unpadd_patch=0\n",
    "stride=96\n",
    "patch_size= 128\n",
    "minibatch_size = 128\n",
    "HE_names = get_image_names()\n",
    "for i in range(HE_names.__len__()):\n",
    "    HE_name = ''.join(HE_names[i])\n",
    "    HE_image=io.imread(HE_name)\n",
    "    (padded_image,pad_y,pad_x)=image_padding(HE_image, stride, patch_size)\n",
    "\n",
    "    (rows_patch_num,culs_patch_num) = patch_num_calculator(padded_image,patch_size, stride)\n",
    "    (output_path, to_be_cropped_row, to_be_cropped_col) = image_to_minibatch(padded_image, \n",
    "                                                                                          stride,patch_size, \n",
    "                                                                                          rows_patch_num,\n",
    "                                                                                          culs_patch_num,unpadd_patch,\n",
    "                                                                                          HE_name)"
   ]
  },
  {
   "cell_type": "code",
   "execution_count": null,
   "metadata": {},
   "outputs": [],
   "source": [
    "HE_name"
   ]
  },
  {
   "cell_type": "code",
   "execution_count": null,
   "metadata": {},
   "outputs": [],
   "source": []
  }
 ],
 "metadata": {
  "kernelspec": {
   "display_name": "Python 3",
   "language": "python",
   "name": "python3"
  },
  "language_info": {
   "codemirror_mode": {
    "name": "ipython",
    "version": 3
   },
   "file_extension": ".py",
   "mimetype": "text/x-python",
   "name": "python",
   "nbconvert_exporter": "python",
   "pygments_lexer": "ipython3",
   "version": "3.6.4"
  }
 },
 "nbformat": 4,
 "nbformat_minor": 2
}
